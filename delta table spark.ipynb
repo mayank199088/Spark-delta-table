{
 "cells": [
  {
   "cell_type": "code",
   "execution_count": 2,
   "id": "8f3f97b5",
   "metadata": {},
   "outputs": [],
   "source": [
    "import findspark\n",
    "findspark.init()\n"
   ]
  },
  {
   "cell_type": "code",
   "execution_count": 1,
   "id": "dad7ed0d",
   "metadata": {},
   "outputs": [],
   "source": [
    "import os\n",
    "os.environ[\"JAVA_HOME\"] = \"C:/Java/jdk1.8.0_331/\"\n",
    "os.environ[\"SPARK_HOME\"] = \"C:/Spark/spark312/\"\n",
    "os.environ['PYSPARK_SUBMIT_ARGS'] = '--packages io.delta:delta-core_2.12:0.7.0 --conf spark.sql.extensions=io.delta.sql.DeltaSparkSessionExtension --conf spark.sql.catalog.spark_catalog=org.apache.spark.sql.delta.catalog.DeltaCatalog pyspark-shell'"
   ]
  },
  {
   "cell_type": "code",
   "execution_count": 3,
   "id": "37a43e99",
   "metadata": {},
   "outputs": [],
   "source": [
    "from pyspark.sql import SparkSession\n",
    "from pyspark.sql.functions import *\n",
    "spark = SparkSession.builder.appName(\"delta_session\").getOrCreate()"
   ]
  },
  {
   "cell_type": "code",
   "execution_count": null,
   "id": "e3eb4602",
   "metadata": {},
   "outputs": [],
   "source": [
    "## Reading provided CSV file (people.csv) into dataframe"
   ]
  },
  {
   "cell_type": "code",
   "execution_count": 4,
   "id": "7b84a123",
   "metadata": {},
   "outputs": [],
   "source": [
    "df=spark.read.format('csv').load('C:/Users/MAYANK/Downloads/Assessment/people.csv',header=True)"
   ]
  },
  {
   "cell_type": "code",
   "execution_count": null,
   "id": "cda5ffb5",
   "metadata": {},
   "outputs": [],
   "source": [
    "## Writing the data in the above dataframe to local filesystem in delta format"
   ]
  },
  {
   "cell_type": "code",
   "execution_count": 6,
   "id": "33a11ae3",
   "metadata": {},
   "outputs": [],
   "source": [
    "df.write.format(\"delta\").saveAsTable(\"newpeople\")"
   ]
  },
  {
   "cell_type": "code",
   "execution_count": null,
   "id": "3dcbf737",
   "metadata": {},
   "outputs": [],
   "source": [
    "# Reading the above data written in the delta format into dataframe"
   ]
  },
  {
   "cell_type": "code",
   "execution_count": 7,
   "id": "b17440c4",
   "metadata": {},
   "outputs": [],
   "source": [
    "df2=spark.sql(\"select * from newpeople\")"
   ]
  },
  {
   "cell_type": "code",
   "execution_count": 8,
   "id": "97e543d6",
   "metadata": {},
   "outputs": [
    {
     "name": "stdout",
     "output_type": "stream",
     "text": [
      "+---------+--------------------+---------+--------+--------+------------------+-----------------+------------+-------------------+\n",
      "|person_ID|                name|    first|    last|  middle|             email|            phone|         fax|              title|\n",
      "+---------+--------------------+---------+--------+--------+------------------+-----------------+------------+-------------------+\n",
      "|     3130|     Burks, Rosella |  Rosella|   Burks|    null|   BurksR@univ.edu|     963.555.1253|963.777.4065|         Professor |\n",
      "|     3297|      Avila, Damien |   Damien|   Avila|    null|   AvilaD@univ.edu|     963.555.1352|963.777.7914|         Professor |\n",
      "|     3547|       Olsen, Robin |    Robin|   Olsen|    null|   OlsenR@univ.edu|     963.555.1378|963.777.9262|Assistant Professor|\n",
      "|     1538| Moises, Edgar Estes|    Edgar|  Moises|   Estes|  MoisesE@univ.edu|963.555.2731x3565|963.777.8264|          Professor|\n",
      "|     2941| Brian, Heath Pruitt|    Heath|   Brian|  Pruitt|   BrianH@univ.edu|     963.555.2800|963.777.7249| Associate Curator |\n",
      "|     2401| Claude, Elvin Haney|    Elvin|  Claude|   Haney|  ClaudeE@univ.edu|     963.555.2902|963.777.9730|            Curator|\n",
      "|     2070|     Mosley, Edmund |   Edmund|  Mosley|    null|  MosleyE@univ.edu|     963.555.2945|963.777.9285|Assistant Professor|\n",
      "|     2561|Derek, Antoine Mccoy|  Antoine|   Derek|   Mccoy|   DerekA@univ.edu|     963.555.2992|963.777.5454|            Curator|\n",
      "|     1625|    Hawkins, Callie |   Callie| Hawkins|    null| HawkinsC@univ.edu|963.555.3350x6480|963.777.4949|          Professor|\n",
      "|     1307|       Pate, Andrea |   Andrea|    Pate|    null|    PateA@univ.edu|     963.555.3723|963.777.5049|          Professor|\n",
      "|     2342|        Austin, Liz |      Liz|  Austin|    null|  AustinL@univ.edu|     963.555.4305|963.777.6143|Assistant Professor|\n",
      "|     2755|Kendrick, Reba Al...|     Reba|Kendrick|  Alford|KendrickR@univ.edu|963.555.4618x7744|963.777.4371| Associate Curator |\n",
      "|     4150|     Sims, Angelina | Angelina|    Sims|    null|    SimsA@univ.edu|     963.555.5278|963.777.4400|          Professor|\n",
      "|     3544|  Mullins, Kimberly | Kimberly| Mullins|    null| MullinsK@univ.edu|963.555.5471x1017|963.777.9783|Assistant Professor|\n",
      "|     2096|  Chuck, Lloyd Haney|    Lloyd|   Chuck|   Haney|   ChuckL@univ.edu|963.555.5568x2652|963.777.9290|Assistant Professor|\n",
      "|     1089|     Payne, Ladonna |  Ladonna|   Payne|    null|   PayneL@univ.edu|     963.555.5639|963.777.6469|          Professor|\n",
      "|     2948|Baxter, Johnathan...|Johnathan|  Baxter|Browning|  BaxterJ@univ.edu|     963.555.5902|963.777.8336| Research Professor|\n",
      "|     4539|     Weiss, Gilbert |  Gilbert|   Weiss|    null|   WeissG@univ.edu|     963.555.5969|963.777.4975|          Professor|\n",
      "|     2811|Deirdre, Florence...| Florence| Deirdre| Barrera| DeirdreF@univ.edu|     963.555.6319|963.777.9654| Associate Curator |\n",
      "|     4580|Fernando, Toby Ca...|     Toby|Fernando|Calderon|FernandoT@univ.edu|     963.555.6469|963.777.9864| Research Professor|\n",
      "+---------+--------------------+---------+--------+--------+------------------+-----------------+------------+-------------------+\n",
      "only showing top 20 rows\n",
      "\n"
     ]
    }
   ],
   "source": [
    "df2.show()"
   ]
  },
  {
   "cell_type": "code",
   "execution_count": null,
   "id": "07c41529",
   "metadata": {},
   "outputs": [],
   "source": [
    "# Show record count for above dataframe."
   ]
  },
  {
   "cell_type": "code",
   "execution_count": 13,
   "id": "90f450c6",
   "metadata": {},
   "outputs": [],
   "source": [
    "rno = df2.count()\n",
    "col = len(df2.columns)"
   ]
  },
  {
   "cell_type": "code",
   "execution_count": 14,
   "id": "6f566eea",
   "metadata": {},
   "outputs": [
    {
     "name": "stdout",
     "output_type": "stream",
     "text": [
      "Dimension of the Dataframe is: (40, 9)\n",
      "Number of Rows are: 40\n",
      "Number of Columns are: 9\n"
     ]
    }
   ],
   "source": [
    "print(f'Dimension of the Dataframe is: {(rno,col)}')\n",
    "print(f'Number of Rows are: {rno}')\n",
    "print(f'Number of Columns are: {col}')"
   ]
  },
  {
   "cell_type": "code",
   "execution_count": null,
   "id": "b86fef83",
   "metadata": {},
   "outputs": [],
   "source": []
  }
 ],
 "metadata": {
  "kernelspec": {
   "display_name": "Python 3 (ipykernel)",
   "language": "python",
   "name": "python3"
  },
  "language_info": {
   "codemirror_mode": {
    "name": "ipython",
    "version": 3
   },
   "file_extension": ".py",
   "mimetype": "text/x-python",
   "name": "python",
   "nbconvert_exporter": "python",
   "pygments_lexer": "ipython3",
   "version": "3.9.12"
  }
 },
 "nbformat": 4,
 "nbformat_minor": 5
}
